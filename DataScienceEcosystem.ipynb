{
 "cells": [
  {
   "cell_type": "markdown",
   "id": "483c1732-675f-44d0-b96e-396fd0a237ba",
   "metadata": {},
   "source": [
    "# Data Science Tools and Ecosystem"
   ]
  },
  {
   "cell_type": "markdown",
   "id": "b4a0d01f-ee31-4e0e-b01c-95090991c9c6",
   "metadata": {},
   "source": [
    "In this notebook, Data Science Tools and Ecosystem are summarized."
   ]
  },
  {
   "cell_type": "markdown",
   "id": "20ec0a47-82ba-4b90-81bc-163d392941b8",
   "metadata": {},
   "source": [
    "**Objectives:**\n",
    "\n",
    "- List popular languages for Data Science  \n",
    "- Identify commonly used libraries in Data Science  \n",
    "- Explore open-source development environment tools for Data Science    \n"
   ]
  },
  {
   "cell_type": "markdown",
   "id": "40f5fcb0-8b5c-4731-b74b-79d8e27b59ba",
   "metadata": {},
   "source": [
    "Some of the popular languages that Data Scientists use are:\n",
    "\n",
    "1. Python  \n",
    "2. R  \n",
    "3. SQL  \n",
    "4. Julia  \n",
    "5. Scala  "
   ]
  },
  {
   "cell_type": "markdown",
   "id": "252c14ab-6a28-4f17-b4b3-bd49d581d36c",
   "metadata": {},
   "source": [
    "Some of the commonly used libraries used by Data Scientists include:\n",
    "\n",
    "1. Pandas  \n",
    "2. NumPy  \n",
    "3. Scikit-learn  \n",
    "4. TensorFlow  \n",
    "5. Matplotlib  \n"
   ]
  },
  {
   "cell_type": "markdown",
   "id": "6b7e4a32-224c-4176-a6fb-f3bc874184bb",
   "metadata": {},
   "source": [
    "| Data Science Tools |\n",
    "|--------------------|\n",
    "| Jupyter Notebook  |\n",
    "| RStudio          |\n",
    "| Google Colab   |\n"
   ]
  },
  {
   "cell_type": "markdown",
   "id": "fbf3f4a3-fd37-43a4-93e2-61d7e5f08850",
   "metadata": {},
   "source": [
    "### Below are a few examples of evaluating arithmetic expressions in Python."
   ]
  },
  {
   "cell_type": "code",
   "execution_count": 19,
   "id": "41dd0fe9-41e4-436c-b9f8-3625b8438df2",
   "metadata": {},
   "outputs": [
    {
     "data": {
      "text/plain": [
       "17"
      ]
     },
     "execution_count": 19,
     "metadata": {},
     "output_type": "execute_result"
    }
   ],
   "source": [
    "# This is a simple arithmetic expression to multiply then add integers\n",
    "(3 * 4) + 5\n"
   ]
  },
  {
   "cell_type": "code",
   "execution_count": 23,
   "id": "a04ac0c2-5848-4a19-b0e6-aa211ba2650b",
   "metadata": {},
   "outputs": [
    {
     "data": {
      "text/plain": [
       "3.3333333333333335"
      ]
     },
     "execution_count": 23,
     "metadata": {},
     "output_type": "execute_result"
    }
   ],
   "source": [
    "# This will convert 200 minutes to hours by dividing by 60\n",
    "200 / 60\n"
   ]
  },
  {
   "cell_type": "markdown",
   "id": "e4999008-645d-4073-95c4-ff83a40d77ab",
   "metadata": {},
   "source": [
    "## Author\n",
    "\n",
    "Muhammad A. Balhamer\n"
   ]
  },
  {
   "cell_type": "code",
   "execution_count": null,
   "id": "b466d3f3-107f-4620-987e-71b76f619358",
   "metadata": {},
   "outputs": [],
   "source": []
  }
 ],
 "metadata": {
  "kernelspec": {
   "display_name": "Python [conda env:base] *",
   "language": "python",
   "name": "conda-base-py"
  },
  "language_info": {
   "codemirror_mode": {
    "name": "ipython",
    "version": 3
   },
   "file_extension": ".py",
   "mimetype": "text/x-python",
   "name": "python",
   "nbconvert_exporter": "python",
   "pygments_lexer": "ipython3",
   "version": "3.12.7"
  },
  "panel-cell-order": [
   "556d5702-d9b6-4fda-addb-062a9e59900d"
  ]
 },
 "nbformat": 4,
 "nbformat_minor": 5
}
